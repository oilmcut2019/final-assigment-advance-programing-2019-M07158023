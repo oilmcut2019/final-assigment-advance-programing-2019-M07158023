{
 "cells": [
  {
   "cell_type": "code",
   "execution_count": 2,
   "metadata": {},
   "outputs": [],
   "source": [
    "#Apriori\n",
    "##Using apriori algorithm we are creating some added values in some specific business\n",
    "\n",
    "#Importing the libraries\n",
    "import numpy as np\n",
    "import matplotlib.pyplot as plt\n",
    "import pandas as pd\n",
    "\n",
    "#Importing the dataset\n",
    "dataset = pd.read_csv('Market_Basket_Optimisation.csv', header = None)\n"
   ]
  },
  {
   "cell_type": "code",
   "execution_count": 3,
   "metadata": {},
   "outputs": [],
   "source": [
    "# Creating two for loops because we're going to loop over all the transactions in the data.\n",
    "## And the second loop will be about to loop over all the products in each of the transaction.\n",
    "### Initializing the variables for the list of transactions.\n",
    "transactions = []\n",
    "\n",
    "#transactions take the index from zero up to seven thousand five hundred and one.\n",
    "#Taking the range by typing in range the range of all the indexes from zero to seven thousand five hundred and one.\n",
    "##In this range function here the lower bounds zero is included but the upper bound seven thousand five hundred and one is excluded.\n",
    "for i in range(0, 7501):\n",
    "\n",
    "#creating a list of the different products of this transaction.\n",
    "##append function will add each of the different transaction to this whole list of transactions.\n",
    "    transactions.append([str(dataset.values[i,j]) for j in range(0, 20)])"
   ]
  },
  {
   "cell_type": "code",
   "execution_count": 4,
   "metadata": {},
   "outputs": [],
   "source": [
    "#some explicit rules telling us that if some customers buy this product will also buy this product with a certain percent chance given by the confidence.\n",
    "\n",
    "# Training Apriori on the dataset\n",
    "from apyori import apriori\n",
    "rules = apriori(transactions, min_support = 0.003, min_confidence = 0.2, min_lift = 3, min_length = 2)\n"
   ]
  },
  {
   "cell_type": "code",
   "execution_count": null,
   "metadata": {},
   "outputs": [],
   "source": [
    "#strengthen the rules or try some more powerful rules by changing the support and confidence or on the other hand if the business goals are not achieved well same we can try to get some new rules by increasing the confidence and maybe the support.\n",
    "# Visualising the results\n",
    "results = list(rules)"
   ]
  }
 ],
 "metadata": {
  "kernelspec": {
   "display_name": "Python 2",
   "language": "python",
   "name": "python2"
  },
  "language_info": {
   "codemirror_mode": {
    "name": "ipython",
    "version": 3
   },
   "file_extension": ".py",
   "mimetype": "text/x-python",
   "name": "python",
   "nbconvert_exporter": "python",
   "pygments_lexer": "ipython3",
   "version": "3.6.8"
  }
 },
 "nbformat": 4,
 "nbformat_minor": 2
}
